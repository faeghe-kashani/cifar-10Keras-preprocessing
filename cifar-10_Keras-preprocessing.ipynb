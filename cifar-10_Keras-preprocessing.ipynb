{
  "cells": [
    {
      "cell_type": "code",
      "execution_count": 1,
      "metadata": {
        "id": "lIYdn1woOS1n"
      },
      "outputs": [],
      "source": [
        "import tensorflow as tf\n",
        "import numpy as np\n",
        "from urllib.request import urlretrieve"
      ]
    },
    {
      "cell_type": "code",
      "source": [
        "data_url = \"https://www.cs.toronto.edu/~kriz/cifar-10-python.tar.gz\""
      ],
      "metadata": {
        "id": "PXEN6ujfPjlQ"
      },
      "execution_count": 2,
      "outputs": []
    },
    {
      "cell_type": "code",
      "source": [
        "urlretrieve(data_url, 'cifar-10-python.tar.gz')"
      ],
      "metadata": {
        "colab": {
          "base_uri": "https://localhost:8080/"
        },
        "id": "_NY9SjbnP0k1",
        "outputId": "bf471447-8303-492a-d759-ca8f7ae40bc4"
      },
      "execution_count": 3,
      "outputs": [
        {
          "output_type": "execute_result",
          "data": {
            "text/plain": [
              "('cifar-10-python.tar.gz', <http.client.HTTPMessage at 0x7fd8d4a0bbd0>)"
            ]
          },
          "metadata": {},
          "execution_count": 3
        }
      ]
    },
    {
      "cell_type": "code",
      "source": [
        "!tar -xvf cifar-10-python.tar.gz"
      ],
      "metadata": {
        "colab": {
          "base_uri": "https://localhost:8080/"
        },
        "id": "XO9MF-WRQVg3",
        "outputId": "3b004b52-a9cd-4cf2-9e89-69e0b0cfe6ef"
      },
      "execution_count": 4,
      "outputs": [
        {
          "output_type": "stream",
          "name": "stdout",
          "text": [
            "cifar-10-batches-py/\n",
            "cifar-10-batches-py/data_batch_4\n",
            "cifar-10-batches-py/readme.html\n",
            "cifar-10-batches-py/test_batch\n",
            "cifar-10-batches-py/data_batch_3\n",
            "cifar-10-batches-py/batches.meta\n",
            "cifar-10-batches-py/data_batch_2\n",
            "cifar-10-batches-py/data_batch_5\n",
            "cifar-10-batches-py/data_batch_1\n"
          ]
        }
      ]
    },
    {
      "cell_type": "code",
      "source": [
        "def unpickle(file):\n",
        "    import pickle\n",
        "    with open(file, 'rb') as fo:\n",
        "        dict = pickle.load(fo, encoding='bytes')\n",
        "    return dict"
      ],
      "metadata": {
        "id": "ii8NLqkEvbRZ"
      },
      "execution_count": 5,
      "outputs": []
    },
    {
      "cell_type": "code",
      "source": [
        "batch1 = unpickle('/content/cifar-10-batches-py/data_batch_1')\n",
        "batch2 = unpickle('/content/cifar-10-batches-py/data_batch_2')\n",
        "batch3 = unpickle('/content/cifar-10-batches-py/data_batch_3')\n",
        "batch4 = unpickle('/content/cifar-10-batches-py/data_batch_4')\n",
        "batch5 = unpickle('/content/cifar-10-batches-py/data_batch_5')\n",
        "\n",
        "batch1.keys()"
      ],
      "metadata": {
        "id": "frtpYZMgvpcn",
        "colab": {
          "base_uri": "https://localhost:8080/"
        },
        "outputId": "e97a7fe0-d247-4b63-fa6f-afbbf0addee5"
      },
      "execution_count": 11,
      "outputs": [
        {
          "output_type": "execute_result",
          "data": {
            "text/plain": [
              "dict_keys([b'batch_label', b'labels', b'data', b'filenames'])"
            ]
          },
          "metadata": {},
          "execution_count": 11
        }
      ]
    },
    {
      "cell_type": "code",
      "source": [
        "train_data = np.concatenate((batch1[b'data'], batch2[b'data'],\n",
        "                             batch3[b'data'],batch4[b'data'],\n",
        "                             batch5[b'data']), axis=0)\n",
        "train_labels = batch1[b'labels'] + batch2[b'labels'] + \\\n",
        "batch3[b'labels'] + batch4[b'labels'] + batch5[b'labels']"
      ],
      "metadata": {
        "id": "bt9sJSO_BWVH"
      },
      "execution_count": 12,
      "outputs": []
    },
    {
      "cell_type": "code",
      "source": [
        "test = unpickle('/content/cifar-10-batches-py/test_batch')"
      ],
      "metadata": {
        "id": "b0r--oocv4aM"
      },
      "execution_count": 13,
      "outputs": []
    },
    {
      "cell_type": "code",
      "source": [
        "x_train, y_train = train_data, train_labels\n",
        "x_test, y_test = test[b'data'], test[b'labels']"
      ],
      "metadata": {
        "id": "y0YX927FybQu"
      },
      "execution_count": 14,
      "outputs": []
    },
    {
      "cell_type": "code",
      "source": [
        "def data_desc(x_train, y_train, x_test, y_test):\n",
        "  #data type\n",
        "  print('\\ttype(x_train): {}'.format(type(x_train)))\n",
        "  print('\\ttype(y_train): {}'.format(type(y_train)))\n",
        "  #data shape\n",
        "  print('\\tx_train.shape: {}'.format(np.shape(x_train)))\n",
        "  print('\\ty_train.shape: {}'.format(np.shape(y_train)))\n",
        "  print('\\tx_test.shape: {}'.format(np.shape(x_test)))\n",
        "  print('\\ty_test.shape: {}'.format(np.shape(y_test)))\n",
        "\n",
        "  #an instance\n",
        "  print('\\ty_train[12]: {}'.format(y_train[12]))"
      ],
      "metadata": {
        "id": "HcpuwUSkJkoy"
      },
      "execution_count": 15,
      "outputs": []
    },
    {
      "cell_type": "code",
      "source": [
        "xtrain = np.array(x_train)\n",
        "#one-hot encoding\n",
        "ytrain = tf.keras.utils.to_categorical(y_train, num_classes=10)\n",
        "\n",
        "xtest = np.array(x_test)\n",
        "#one-hot encoding\n",
        "ytest = tf.keras.utils.to_categorical(y_test, num_classes=10)"
      ],
      "metadata": {
        "id": "NPGvOLzHLIo4"
      },
      "execution_count": 17,
      "outputs": []
    },
    {
      "cell_type": "code",
      "source": [
        "print('--------------------------')\n",
        "print('before preprocessing:')\n",
        "data_desc(x_train, y_train, x_test, y_test)\n",
        "print('--------------------------')\n",
        "print('after preprocessing:')\n",
        "data_desc(xtrain, ytrain, xtest, ytest)\n"
      ],
      "metadata": {
        "colab": {
          "base_uri": "https://localhost:8080/"
        },
        "id": "T8WP7xLKMmn4",
        "outputId": "dee51c0e-09c9-4747-f22b-4ce89b40b521"
      },
      "execution_count": 18,
      "outputs": [
        {
          "output_type": "stream",
          "name": "stdout",
          "text": [
            "--------------------------\n",
            "before preprocessing:\n",
            "\ttype(x_train): <class 'numpy.ndarray'>\n",
            "\ttype(y_train): <class 'list'>\n",
            "\tx_train.shape: (50000, 3072)\n",
            "\ty_train.shape: (50000,)\n",
            "\tx_test.shape: (10000, 3072)\n",
            "\ty_test.shape: (10000,)\n",
            "\ty_train[12]: 7\n",
            "--------------------------\n",
            "after preprocessing:\n",
            "\ttype(x_train): <class 'numpy.ndarray'>\n",
            "\ttype(y_train): <class 'numpy.ndarray'>\n",
            "\tx_train.shape: (50000, 3072)\n",
            "\ty_train.shape: (50000, 10)\n",
            "\tx_test.shape: (10000, 3072)\n",
            "\ty_test.shape: (10000, 10)\n",
            "\ty_train[12]: [0. 0. 0. 0. 0. 0. 0. 1. 0. 0.]\n"
          ]
        }
      ]
    },
    {
      "cell_type": "code",
      "source": [
        "(x_train, y_train), (x_test, y_test) = tf.keras.datasets.cifar10.load_data()"
      ],
      "metadata": {
        "id": "W6LyYT5vIbKB"
      },
      "execution_count": 19,
      "outputs": []
    },
    {
      "cell_type": "code",
      "source": [
        "assert x_train.shape == (50000, 32, 32, 3)\n",
        "assert x_test.shape == (10000, 32, 32, 3)\n",
        "assert y_train.shape == (50000, 1)\n",
        "assert y_test.shape == (10000, 1)"
      ],
      "metadata": {
        "id": "P4pRx2LhJhGb"
      },
      "execution_count": 22,
      "outputs": []
    },
    {
      "cell_type": "code",
      "source": [
        "data_desc(x_train, y_train, x_test, y_test)"
      ],
      "metadata": {
        "id": "F2HF7vvsPwe6",
        "colab": {
          "base_uri": "https://localhost:8080/"
        },
        "outputId": "e05953b8-d83d-4167-9d40-a86fd998ce52"
      },
      "execution_count": 23,
      "outputs": [
        {
          "output_type": "stream",
          "name": "stdout",
          "text": [
            "\ttype(x_train): <class 'numpy.ndarray'>\n",
            "\ttype(y_train): <class 'numpy.ndarray'>\n",
            "\tx_train.shape: (50000, 32, 32, 3)\n",
            "\ty_train.shape: (50000, 1)\n",
            "\tx_test.shape: (10000, 32, 32, 3)\n",
            "\ty_test.shape: (10000, 1)\n",
            "\ty_train[12]: [7]\n"
          ]
        }
      ]
    },
    {
      "cell_type": "code",
      "source": [
        "x_train.dtype"
      ],
      "metadata": {
        "colab": {
          "base_uri": "https://localhost:8080/"
        },
        "id": "eHEXVry6k3ey",
        "outputId": "c808cdd1-7a2a-41d2-f4c8-23a4d4a6f0ea"
      },
      "execution_count": 34,
      "outputs": [
        {
          "output_type": "execute_result",
          "data": {
            "text/plain": [
              "dtype('float32')"
            ]
          },
          "metadata": {},
          "execution_count": 34
        }
      ]
    },
    {
      "cell_type": "code",
      "source": [
        "x_train[0][0][0]"
      ],
      "metadata": {
        "colab": {
          "base_uri": "https://localhost:8080/"
        },
        "id": "nCsfwNOIlWhL",
        "outputId": "a529c0e6-440b-4f0b-a958-af6e53c92966"
      },
      "execution_count": 36,
      "outputs": [
        {
          "output_type": "execute_result",
          "data": {
            "text/plain": [
              "array([0.23137255, 0.24313726, 0.24705882], dtype=float32)"
            ]
          },
          "metadata": {},
          "execution_count": 36
        }
      ]
    },
    {
      "cell_type": "code",
      "source": [
        "x_train = x_train.astype('float32')\n",
        "x_test = x_test.astype('float32')"
      ],
      "metadata": {
        "id": "55C-hXZKleiT"
      },
      "execution_count": 33,
      "outputs": []
    },
    {
      "cell_type": "code",
      "source": [
        "x_train /= 255\n",
        "x_test /= 255"
      ],
      "metadata": {
        "id": "Ts2f0T4Klp7H"
      },
      "execution_count": 35,
      "outputs": []
    }
  ],
  "metadata": {
    "colab": {
      "name": "DS02 - Preprocessing for Keras",
      "provenance": [],
      "collapsed_sections": []
    },
    "kernelspec": {
      "display_name": "Python 3",
      "name": "python3"
    }
  },
  "nbformat": 4,
  "nbformat_minor": 0
}